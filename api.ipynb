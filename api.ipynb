{
 "cells": [
  {
   "cell_type": "code",
   "execution_count": 1,
   "id": "347e3141-f030-4b50-83db-8f2396982532",
   "metadata": {},
   "outputs": [
    {
     "data": {
      "text/plain": [
       "'ApI IS the communication between the two programs or application \\nbetwween heterogenous and homogeneous applications for eg API is used between gpay and bank for money transactions purposes'"
      ]
     },
     "execution_count": 1,
     "metadata": {},
     "output_type": "execute_result"
    }
   ],
   "source": [
    "#Q1. What is an API? Give an example, where an API is used in real life.\n",
    "'''ApI IS the communication between the two programs or application \n",
    "betwween heterogenous and homogeneous applications for eg API is used between gpay and bank for money transactions purposes''' "
   ]
  },
  {
   "cell_type": "code",
   "execution_count": 1,
   "id": "ac1deb77-abe8-4222-a99c-2ffafcd1d08b",
   "metadata": {},
   "outputs": [
    {
     "data": {
      "text/plain": [
       "'advantages helps in the communication between two applications \\nin any kind of language they made .'"
      ]
     },
     "execution_count": 1,
     "metadata": {},
     "output_type": "execute_result"
    }
   ],
   "source": [
    "#Q2. Give advantages and disadvantages of using API.\n",
    "'''advantages helps in the communication between two applications \n",
    "in any kind of language they made .'''\n"
   ]
  },
  {
   "cell_type": "code",
   "execution_count": 2,
   "id": "ce3e5e8d-39e5-49c2-88a6-db10211f9c59",
   "metadata": {},
   "outputs": [
    {
     "data": {
      "text/plain": [
       "'1)web API is the appliation prograaming interface or the communication interface betweeen the web services\\nHTTP is used to call the web API TCP/IP  is used to communicate between API.Web API is the subset of API'"
      ]
     },
     "execution_count": 2,
     "metadata": {},
     "output_type": "execute_result"
    }
   ],
   "source": [
    "#Q3. What is a Web API? Differentiate between API and Web API.\n",
    "'''1)web API is the appliation prograaming interface or the communication interface betweeen the web services\n",
    "HTTP is used to call the web API TCP/IP  is used to communicate between API.Web API is the subset of API''' "
   ]
  },
  {
   "cell_type": "code",
   "execution_count": 4,
   "id": "38167e54-cd1c-4e3e-940b-2bff4629cb31",
   "metadata": {},
   "outputs": [
    {
     "data": {
      "text/plain": [
       "'rest architecture is mainly used in the web protocols it uses puts ,gets,Post Delete protocols it is simple ,scalabla and flexible protocol soap architecture is XML based means it is a messaging protocol based it is used (WSDL) it support http ,tcp/ip ,SMTP\\nSoap is complex in terms of implementation .'"
      ]
     },
     "execution_count": 4,
     "metadata": {},
     "output_type": "execute_result"
    }
   ],
   "source": [
    "#Q4. Explain REST and SOAP Architecture. Mention shortcomings of SOAP.'''\n",
    "'''rest architecture is mainly used in the web protocols it uses puts ,gets,Post Delete protocols it is simple ,scalabla and flexible protocol soap architecture is XML based means it is a messaging protocol based it is used (WSDL) it support http ,tcp/ip ,SMTP\n",
    "Soap is complex in terms of implementation .'''"
   ]
  },
  {
   "cell_type": "code",
   "execution_count": null,
   "id": "708aa5ce-e5ad-4c5f-9d63-acc87e28d4c9",
   "metadata": {},
   "outputs": [],
   "source": [
    "#Q5. Differentiate between REST and SOAP.\n",
    "'''rest is easy in implementation and soap is difficult or complexin its implementation .\n",
    "soap is light weight means heavy transaction aare occcur through the rest architecture\n",
    " soap is more secue than rest .'''"
   ]
  }
 ],
 "metadata": {
  "kernelspec": {
   "display_name": "Python 3 (ipykernel)",
   "language": "python",
   "name": "python3"
  },
  "language_info": {
   "codemirror_mode": {
    "name": "ipython",
    "version": 3
   },
   "file_extension": ".py",
   "mimetype": "text/x-python",
   "name": "python",
   "nbconvert_exporter": "python",
   "pygments_lexer": "ipython3",
   "version": "3.11.6"
  }
 },
 "nbformat": 4,
 "nbformat_minor": 5
}
